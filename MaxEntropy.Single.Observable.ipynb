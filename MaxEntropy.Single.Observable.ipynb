{
 "cells": [
  {
   "cell_type": "code",
   "execution_count": 7,
   "id": "a3bbd342",
   "metadata": {},
   "outputs": [],
   "source": [
    "import numpy as np\n",
    "from scipy.optimize import root_scalar\n",
    "from math import pow"
   ]
  },
  {
   "cell_type": "code",
   "execution_count": null,
   "id": "8475684b",
   "metadata": {},
   "outputs": [],
   "source": [
    "#Important identites\n",
    "# e^(1-lam1) = sum(e^(lam2*f(xi)))\n",
    "# e^(1-lam1) = 1/(ave experimental observable)*sum(f(xi)*e^(lam2*f(xi)))\n",
    "# y = e^(lam2) ##change of variable"
   ]
  },
  {
   "cell_type": "code",
   "execution_count": 36,
   "id": "c949c9b2",
   "metadata": {},
   "outputs": [],
   "source": [
    "mu = 10\n",
    "f = np.arange(100)\n",
    "\n",
    "def fxn_to_optimize(fi,mu,y):\n",
    "    return (y**(fi))*(1-(1/mu)*fi)\n",
    "def sum_fxn(y,f,mu):\n",
    "    s = 0\n",
    "    for fi in f:\n",
    "        s += fxn_to_optimize(fi, mu, y)\n",
    "    return s\n",
    "def solve(f,mu):\n",
    "    root = root_scalar(sum_fxn,args=(f,mu),bracket=(-50,50)).root\n",
    "    lam2 = np.log(root)\n",
    "    lam1 = 1 - np.log(np.sum(np.exp(f*lam2)))\n",
    "    p = np.exp(-1+lam1+lam2*f)\n",
    "    S = 1-lam1-lam2*mu\n",
    "    return dict(zip(\"lam1,lam2,P,S,root\".split(\",\"),[lam1,lam2,p,S,root]))\n",
    "\n"
   ]
  },
  {
   "cell_type": "code",
   "execution_count": 37,
   "id": "cd06b44c",
   "metadata": {},
   "outputs": [],
   "source": [
    "r = solve(f,mu)"
   ]
  },
  {
   "cell_type": "code",
   "execution_count": 41,
   "id": "a43b68cc",
   "metadata": {},
   "outputs": [
    {
     "data": {
      "text/plain": [
       "1.0000000000000002"
      ]
     },
     "execution_count": 41,
     "metadata": {},
     "output_type": "execute_result"
    }
   ],
   "source": [
    "#ensure probability distribution sums to 1\n",
    "r[\"P\"].sum()"
   ]
  },
  {
   "cell_type": "code",
   "execution_count": 40,
   "id": "75b881cf",
   "metadata": {},
   "outputs": [
    {
     "data": {
      "text/plain": [
       "{'lam1': -1.3984861303142626,\n",
       " 'lam2': -0.09524381313091475,\n",
       " 'P': array([9.08553925e-02, 8.26012931e-02, 7.50970684e-02, 6.82745932e-02,\n",
       "        6.20719314e-02, 5.64327737e-02, 5.13059264e-02, 4.66448468e-02,\n",
       "        4.24072205e-02, 3.85545773e-02, 3.50519420e-02, 3.18675167e-02,\n",
       "        2.89723924e-02, 2.63402866e-02, 2.39473044e-02, 2.17717216e-02,\n",
       "        1.97937878e-02, 1.79955468e-02, 1.63606737e-02, 1.48743269e-02,\n",
       "        1.35230128e-02, 1.22944639e-02, 1.11775272e-02, 1.01620627e-02,\n",
       "        9.23885198e-03, 8.39951378e-03, 7.63642840e-03, 6.94266838e-03,\n",
       "        6.31193560e-03, 5.73850411e-03, 5.21716815e-03, 4.74319492e-03,\n",
       "        4.31228156e-03, 3.92051615e-03, 3.56434213e-03, 3.24052609e-03,\n",
       "        2.94612832e-03, 2.67847623e-03, 2.43514000e-03, 2.21391056e-03,\n",
       "        2.01277954e-03, 1.82992103e-03, 1.66367498e-03, 1.51253218e-03,\n",
       "        1.37512051e-03, 1.25019252e-03, 1.13661409e-03, 1.03335411e-03,\n",
       "        9.39475177e-04, 8.54125027e-04, 7.76528831e-04, 7.05982153e-04,\n",
       "        6.41844553e-04, 5.83533774e-04, 5.30520457e-04, 4.82323333e-04,\n",
       "        4.38504859e-04, 3.98667238e-04, 3.62448816e-04, 3.29520792e-04,\n",
       "        2.99584238e-04, 2.72367383e-04, 2.47623145e-04, 2.25126890e-04,\n",
       "        2.04674393e-04, 1.86079979e-04, 1.69174844e-04, 1.53805520e-04,\n",
       "        1.39832480e-04, 1.27128873e-04, 1.15579373e-04, 1.05079131e-04,\n",
       "        9.55328228e-05, 8.68537847e-05, 7.89632264e-05, 7.17895156e-05,\n",
       "        6.52675274e-05, 5.93380538e-05, 5.39472654e-05, 4.90462235e-05,\n",
       "        4.45904351e-05, 4.05394496e-05, 3.68564910e-05, 3.35081247e-05,\n",
       "        3.04639533e-05, 2.76963410e-05, 2.51801629e-05, 2.28925764e-05,\n",
       "        2.08128144e-05, 1.89219961e-05, 1.72029563e-05, 1.56400891e-05,\n",
       "        1.42192065e-05, 1.29274093e-05, 1.17529702e-05, 1.06852275e-05,\n",
       "        9.71448788e-06, 8.83193875e-06, 8.02956810e-06, 7.30009183e-06]),\n",
       " 'S': 3.35092426162341,\n",
       " 'root': 0.9091512444324786}"
      ]
     },
     "execution_count": 40,
     "metadata": {},
     "output_type": "execute_result"
    }
   ],
   "source": [
    "r"
   ]
  }
 ],
 "metadata": {
  "kernelspec": {
   "display_name": "Python 3 (ipykernel)",
   "language": "python",
   "name": "python3"
  },
  "language_info": {
   "codemirror_mode": {
    "name": "ipython",
    "version": 3
   },
   "file_extension": ".py",
   "mimetype": "text/x-python",
   "name": "python",
   "nbconvert_exporter": "python",
   "pygments_lexer": "ipython3",
   "version": "3.8.0"
  }
 },
 "nbformat": 4,
 "nbformat_minor": 5
}
